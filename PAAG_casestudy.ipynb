{
 "cells": [
  {
   "cell_type": "markdown",
   "id": "9e78ff1a",
   "metadata": {},
   "source": [
    "## Analysis of a pilot study of the effect of 2.5% Polyacrylamide Hydrogel in the management of joint lameness in a population of flat racing thoroughbreds"
   ]
  },
  {
   "cell_type": "markdown",
   "id": "49ebcdfe",
   "metadata": {},
   "source": [
    "### Introduction"
   ]
  },
  {
   "cell_type": "markdown",
   "id": "1e389628",
   "metadata": {},
   "source": [
    "##### Osteoarthritis is a serious debilitating condition affecting over 50% of horses above the age of 15. Without treatment, it is always progressive. The database represents findings of a pilot study on the effect of treatment of carpal and metacarpophalangeal joint lameness with 2.5% cross-linked polyacrylamide hydrogel conducted in 2016/17. A total of 49 flat-racing throughbreds at a single training facility were included in the study. \n",
    "##### Shortcomings are clearly that this study did not include a control group and was not double-blind. However, as arthritis is a progressive disease, the alternative to treatment is well understood. "
   ]
  },
  {
   "cell_type": "markdown",
   "id": "c5f18a8b",
   "metadata": {},
   "source": [
    "The data set provides horse identification, sex and age (year of birth) of the horse, identifies the involved joint, provides a radiological score at the time of administration, lameness grades at 0,1,4,12 and 26 weeks, previous intra-articular treatments, joint effusion grades, range of motion of affected joints and some statistical analysis of the data set."
   ]
  },
  {
   "cell_type": "markdown",
   "id": "6e8342ef",
   "metadata": {},
   "source": [
    "Data compiled by:\n",
    "\n",
    "de Clifford, Leigh; Bolwell, Charlotte; David, Florent; Lowe, Jason; McKellar, Campbell (2019), “Data for: USE OF A 2.5% POLYACRYLAMIDE HYDROGEL IN THE MANAGEMENT OF JOINT LAMENESS IN A POPULATION OF FLAT RACING THOROUGHBREDS: A PILOT STUDY”, Mendeley Data, V1, doi: 10.17632/ttfn93rdt4.1"
   ]
  },
  {
   "cell_type": "markdown",
   "id": "cecd6604",
   "metadata": {},
   "source": [
    "### Loading the libraries and data"
   ]
  },
  {
   "cell_type": "code",
   "execution_count": 1,
   "id": "553af56d",
   "metadata": {},
   "outputs": [],
   "source": [
    "import numpy as np\n",
    "import pandas as pd\n",
    "import matplotlib.pyplot as plt\n",
    "import seaborn as sns\n",
    "from scipy import stats\n",
    "\n",
    "import warnings \n",
    "warnings.simplefilter(\"ignore\")"
   ]
  },
  {
   "cell_type": "code",
   "execution_count": 2,
   "id": "495a9cb1",
   "metadata": {},
   "outputs": [
    {
     "data": {
      "text/html": [
       "<div>\n",
       "<style scoped>\n",
       "    .dataframe tbody tr th:only-of-type {\n",
       "        vertical-align: middle;\n",
       "    }\n",
       "\n",
       "    .dataframe tbody tr th {\n",
       "        vertical-align: top;\n",
       "    }\n",
       "\n",
       "    .dataframe thead th {\n",
       "        text-align: right;\n",
       "    }\n",
       "</style>\n",
       "<table border=\"1\" class=\"dataframe\">\n",
       "  <thead>\n",
       "    <tr style=\"text-align: right;\">\n",
       "      <th></th>\n",
       "      <th>horseid</th>\n",
       "      <th>joint</th>\n",
       "      <th>side</th>\n",
       "      <th>time</th>\n",
       "      <th>age</th>\n",
       "      <th>previous_tx</th>\n",
       "      <th>radio_score</th>\n",
       "      <th>lame</th>\n",
       "      <th>effu</th>\n",
       "      <th>rom</th>\n",
       "      <th>vet</th>\n",
       "      <th>gender</th>\n",
       "      <th>pred_prob</th>\n",
       "      <th>_est_A</th>\n",
       "      <th>_est_B</th>\n",
       "    </tr>\n",
       "  </thead>\n",
       "  <tbody>\n",
       "    <tr>\n",
       "      <th>0</th>\n",
       "      <td>65</td>\n",
       "      <td>3</td>\n",
       "      <td>1</td>\n",
       "      <td>0</td>\n",
       "      <td>2009.0</td>\n",
       "      <td>0</td>\n",
       "      <td>1</td>\n",
       "      <td>2</td>\n",
       "      <td>1</td>\n",
       "      <td>0</td>\n",
       "      <td>MVS</td>\n",
       "      <td>Male</td>\n",
       "      <td>0.029125</td>\n",
       "      <td>1</td>\n",
       "      <td>1</td>\n",
       "    </tr>\n",
       "    <tr>\n",
       "      <th>1</th>\n",
       "      <td>67</td>\n",
       "      <td>3</td>\n",
       "      <td>0</td>\n",
       "      <td>26</td>\n",
       "      <td>2009.0</td>\n",
       "      <td>0</td>\n",
       "      <td>1</td>\n",
       "      <td>0</td>\n",
       "      <td>0</td>\n",
       "      <td>0</td>\n",
       "      <td>MVS</td>\n",
       "      <td>Male</td>\n",
       "      <td>0.180031</td>\n",
       "      <td>1</td>\n",
       "      <td>1</td>\n",
       "    </tr>\n",
       "    <tr>\n",
       "      <th>2</th>\n",
       "      <td>66</td>\n",
       "      <td>3</td>\n",
       "      <td>0</td>\n",
       "      <td>26</td>\n",
       "      <td>2011.0</td>\n",
       "      <td>0</td>\n",
       "      <td>2</td>\n",
       "      <td>0</td>\n",
       "      <td>0</td>\n",
       "      <td>0</td>\n",
       "      <td>MVS</td>\n",
       "      <td>Male</td>\n",
       "      <td>0.161118</td>\n",
       "      <td>1</td>\n",
       "      <td>1</td>\n",
       "    </tr>\n",
       "    <tr>\n",
       "      <th>3</th>\n",
       "      <td>36</td>\n",
       "      <td>3</td>\n",
       "      <td>1</td>\n",
       "      <td>0</td>\n",
       "      <td>NaN</td>\n",
       "      <td>0</td>\n",
       "      <td>1</td>\n",
       "      <td>2</td>\n",
       "      <td>0</td>\n",
       "      <td>0</td>\n",
       "      <td>KM</td>\n",
       "      <td>NaN</td>\n",
       "      <td>0.135424</td>\n",
       "      <td>1</td>\n",
       "      <td>1</td>\n",
       "    </tr>\n",
       "    <tr>\n",
       "      <th>4</th>\n",
       "      <td>62</td>\n",
       "      <td>3</td>\n",
       "      <td>1</td>\n",
       "      <td>26</td>\n",
       "      <td>2009.0</td>\n",
       "      <td>1</td>\n",
       "      <td>2</td>\n",
       "      <td>0</td>\n",
       "      <td>0</td>\n",
       "      <td>0</td>\n",
       "      <td>TP</td>\n",
       "      <td>female</td>\n",
       "      <td>0.021236</td>\n",
       "      <td>1</td>\n",
       "      <td>1</td>\n",
       "    </tr>\n",
       "  </tbody>\n",
       "</table>\n",
       "</div>"
      ],
      "text/plain": [
       "   horseid  joint  side  time     age  previous_tx  radio_score  lame  effu  \\\n",
       "0       65      3     1     0  2009.0            0            1     2     1   \n",
       "1       67      3     0    26  2009.0            0            1     0     0   \n",
       "2       66      3     0    26  2011.0            0            2     0     0   \n",
       "3       36      3     1     0     NaN            0            1     2     0   \n",
       "4       62      3     1    26  2009.0            1            2     0     0   \n",
       "\n",
       "   rom  vet  gender  pred_prob  _est_A  _est_B  \n",
       "0    0  MVS    Male   0.029125       1       1  \n",
       "1    0  MVS    Male   0.180031       1       1  \n",
       "2    0  MVS    Male   0.161118       1       1  \n",
       "3    0   KM     NaN   0.135424       1       1  \n",
       "4    0   TP  female   0.021236       1       1  "
      ]
     },
     "execution_count": 2,
     "metadata": {},
     "output_type": "execute_result"
    }
   ],
   "source": [
    "df = pd.read_excel(\"Arthramid__current_may17_49Charlotte.xlsx\")\n",
    "df.head()"
   ]
  },
  {
   "cell_type": "code",
   "execution_count": 3,
   "id": "216e20b2",
   "metadata": {},
   "outputs": [
    {
     "name": "stdout",
     "output_type": "stream",
     "text": [
      "<class 'pandas.core.frame.DataFrame'>\n",
      "RangeIndex: 514 entries, 0 to 513\n",
      "Data columns (total 15 columns):\n",
      " #   Column       Non-Null Count  Dtype  \n",
      "---  ------       --------------  -----  \n",
      " 0   horseid      514 non-null    int64  \n",
      " 1   joint        514 non-null    int64  \n",
      " 2   side         514 non-null    int64  \n",
      " 3   time         514 non-null    int64  \n",
      " 4   age          434 non-null    float64\n",
      " 5   previous_tx  514 non-null    int64  \n",
      " 6   radio_score  514 non-null    int64  \n",
      " 7   lame         514 non-null    int64  \n",
      " 8   effu         514 non-null    int64  \n",
      " 9   rom          514 non-null    int64  \n",
      " 10  vet          514 non-null    object \n",
      " 11  gender       434 non-null    object \n",
      " 12  pred_prob    514 non-null    float64\n",
      " 13  _est_A       514 non-null    int64  \n",
      " 14  _est_B       514 non-null    int64  \n",
      "dtypes: float64(2), int64(11), object(2)\n",
      "memory usage: 60.4+ KB\n"
     ]
    }
   ],
   "source": [
    "df.info()"
   ]
  },
  {
   "cell_type": "markdown",
   "id": "f2b683a2",
   "metadata": {},
   "source": [
    "### Data overview and cleaning"
   ]
  },
  {
   "cell_type": "code",
   "execution_count": 4,
   "id": "a753d088",
   "metadata": {},
   "outputs": [
    {
     "data": {
      "text/html": [
       "<div>\n",
       "<style scoped>\n",
       "    .dataframe tbody tr th:only-of-type {\n",
       "        vertical-align: middle;\n",
       "    }\n",
       "\n",
       "    .dataframe tbody tr th {\n",
       "        vertical-align: top;\n",
       "    }\n",
       "\n",
       "    .dataframe thead th {\n",
       "        text-align: right;\n",
       "    }\n",
       "</style>\n",
       "<table border=\"1\" class=\"dataframe\">\n",
       "  <thead>\n",
       "    <tr style=\"text-align: right;\">\n",
       "      <th></th>\n",
       "      <th>horseid</th>\n",
       "      <th>joint</th>\n",
       "      <th>side</th>\n",
       "      <th>time</th>\n",
       "      <th>age</th>\n",
       "      <th>previous_tx</th>\n",
       "      <th>radio_score</th>\n",
       "      <th>lame</th>\n",
       "      <th>effu</th>\n",
       "      <th>rom</th>\n",
       "      <th>pred_prob</th>\n",
       "      <th>_est_A</th>\n",
       "      <th>_est_B</th>\n",
       "    </tr>\n",
       "  </thead>\n",
       "  <tbody>\n",
       "    <tr>\n",
       "      <th>count</th>\n",
       "      <td>514.000000</td>\n",
       "      <td>514.000000</td>\n",
       "      <td>514.000000</td>\n",
       "      <td>514.000000</td>\n",
       "      <td>434.000000</td>\n",
       "      <td>514.000000</td>\n",
       "      <td>514.000000</td>\n",
       "      <td>514.000000</td>\n",
       "      <td>514.000000</td>\n",
       "      <td>514.000000</td>\n",
       "      <td>514.000000</td>\n",
       "      <td>514.0</td>\n",
       "      <td>514.0</td>\n",
       "    </tr>\n",
       "    <tr>\n",
       "      <th>mean</th>\n",
       "      <td>34.118677</td>\n",
       "      <td>2.737354</td>\n",
       "      <td>0.505837</td>\n",
       "      <td>8.566148</td>\n",
       "      <td>2009.870968</td>\n",
       "      <td>0.282101</td>\n",
       "      <td>0.807393</td>\n",
       "      <td>1.130350</td>\n",
       "      <td>0.274319</td>\n",
       "      <td>0.192607</td>\n",
       "      <td>0.217309</td>\n",
       "      <td>1.0</td>\n",
       "      <td>1.0</td>\n",
       "    </tr>\n",
       "    <tr>\n",
       "      <th>std</th>\n",
       "      <td>20.345541</td>\n",
       "      <td>0.654186</td>\n",
       "      <td>0.500453</td>\n",
       "      <td>9.654686</td>\n",
       "      <td>1.532386</td>\n",
       "      <td>0.450461</td>\n",
       "      <td>0.915464</td>\n",
       "      <td>1.065374</td>\n",
       "      <td>0.555534</td>\n",
       "      <td>0.394731</td>\n",
       "      <td>0.175207</td>\n",
       "      <td>0.0</td>\n",
       "      <td>0.0</td>\n",
       "    </tr>\n",
       "    <tr>\n",
       "      <th>min</th>\n",
       "      <td>1.000000</td>\n",
       "      <td>1.000000</td>\n",
       "      <td>0.000000</td>\n",
       "      <td>0.000000</td>\n",
       "      <td>2006.000000</td>\n",
       "      <td>0.000000</td>\n",
       "      <td>0.000000</td>\n",
       "      <td>0.000000</td>\n",
       "      <td>0.000000</td>\n",
       "      <td>0.000000</td>\n",
       "      <td>0.000022</td>\n",
       "      <td>1.0</td>\n",
       "      <td>1.0</td>\n",
       "    </tr>\n",
       "    <tr>\n",
       "      <th>25%</th>\n",
       "      <td>16.000000</td>\n",
       "      <td>3.000000</td>\n",
       "      <td>0.000000</td>\n",
       "      <td>1.000000</td>\n",
       "      <td>2009.000000</td>\n",
       "      <td>0.000000</td>\n",
       "      <td>0.000000</td>\n",
       "      <td>0.000000</td>\n",
       "      <td>0.000000</td>\n",
       "      <td>0.000000</td>\n",
       "      <td>0.053393</td>\n",
       "      <td>1.0</td>\n",
       "      <td>1.0</td>\n",
       "    </tr>\n",
       "    <tr>\n",
       "      <th>50%</th>\n",
       "      <td>31.000000</td>\n",
       "      <td>3.000000</td>\n",
       "      <td>1.000000</td>\n",
       "      <td>4.000000</td>\n",
       "      <td>2010.000000</td>\n",
       "      <td>0.000000</td>\n",
       "      <td>1.000000</td>\n",
       "      <td>1.000000</td>\n",
       "      <td>0.000000</td>\n",
       "      <td>0.000000</td>\n",
       "      <td>0.185025</td>\n",
       "      <td>1.0</td>\n",
       "      <td>1.0</td>\n",
       "    </tr>\n",
       "    <tr>\n",
       "      <th>75%</th>\n",
       "      <td>52.000000</td>\n",
       "      <td>3.000000</td>\n",
       "      <td>1.000000</td>\n",
       "      <td>12.000000</td>\n",
       "      <td>2011.000000</td>\n",
       "      <td>1.000000</td>\n",
       "      <td>1.000000</td>\n",
       "      <td>2.000000</td>\n",
       "      <td>0.000000</td>\n",
       "      <td>0.000000</td>\n",
       "      <td>0.346584</td>\n",
       "      <td>1.0</td>\n",
       "      <td>1.0</td>\n",
       "    </tr>\n",
       "    <tr>\n",
       "      <th>max</th>\n",
       "      <td>67.000000</td>\n",
       "      <td>3.000000</td>\n",
       "      <td>1.000000</td>\n",
       "      <td>26.000000</td>\n",
       "      <td>2013.000000</td>\n",
       "      <td>1.000000</td>\n",
       "      <td>3.000000</td>\n",
       "      <td>3.000000</td>\n",
       "      <td>2.000000</td>\n",
       "      <td>1.000000</td>\n",
       "      <td>0.533582</td>\n",
       "      <td>1.0</td>\n",
       "      <td>1.0</td>\n",
       "    </tr>\n",
       "  </tbody>\n",
       "</table>\n",
       "</div>"
      ],
      "text/plain": [
       "          horseid       joint        side        time          age  \\\n",
       "count  514.000000  514.000000  514.000000  514.000000   434.000000   \n",
       "mean    34.118677    2.737354    0.505837    8.566148  2009.870968   \n",
       "std     20.345541    0.654186    0.500453    9.654686     1.532386   \n",
       "min      1.000000    1.000000    0.000000    0.000000  2006.000000   \n",
       "25%     16.000000    3.000000    0.000000    1.000000  2009.000000   \n",
       "50%     31.000000    3.000000    1.000000    4.000000  2010.000000   \n",
       "75%     52.000000    3.000000    1.000000   12.000000  2011.000000   \n",
       "max     67.000000    3.000000    1.000000   26.000000  2013.000000   \n",
       "\n",
       "       previous_tx  radio_score        lame        effu         rom  \\\n",
       "count   514.000000   514.000000  514.000000  514.000000  514.000000   \n",
       "mean      0.282101     0.807393    1.130350    0.274319    0.192607   \n",
       "std       0.450461     0.915464    1.065374    0.555534    0.394731   \n",
       "min       0.000000     0.000000    0.000000    0.000000    0.000000   \n",
       "25%       0.000000     0.000000    0.000000    0.000000    0.000000   \n",
       "50%       0.000000     1.000000    1.000000    0.000000    0.000000   \n",
       "75%       1.000000     1.000000    2.000000    0.000000    0.000000   \n",
       "max       1.000000     3.000000    3.000000    2.000000    1.000000   \n",
       "\n",
       "        pred_prob  _est_A  _est_B  \n",
       "count  514.000000   514.0   514.0  \n",
       "mean     0.217309     1.0     1.0  \n",
       "std      0.175207     0.0     0.0  \n",
       "min      0.000022     1.0     1.0  \n",
       "25%      0.053393     1.0     1.0  \n",
       "50%      0.185025     1.0     1.0  \n",
       "75%      0.346584     1.0     1.0  \n",
       "max      0.533582     1.0     1.0  "
      ]
     },
     "execution_count": 4,
     "metadata": {},
     "output_type": "execute_result"
    }
   ],
   "source": [
    "df.describe()"
   ]
  },
  {
   "cell_type": "code",
   "execution_count": 5,
   "id": "522d0e24",
   "metadata": {},
   "outputs": [
    {
     "data": {
      "text/html": [
       "<div>\n",
       "<style scoped>\n",
       "    .dataframe tbody tr th:only-of-type {\n",
       "        vertical-align: middle;\n",
       "    }\n",
       "\n",
       "    .dataframe tbody tr th {\n",
       "        vertical-align: top;\n",
       "    }\n",
       "\n",
       "    .dataframe thead th {\n",
       "        text-align: right;\n",
       "    }\n",
       "</style>\n",
       "<table border=\"1\" class=\"dataframe\">\n",
       "  <thead>\n",
       "    <tr style=\"text-align: right;\">\n",
       "      <th></th>\n",
       "      <th>vet</th>\n",
       "      <th>gender</th>\n",
       "    </tr>\n",
       "  </thead>\n",
       "  <tbody>\n",
       "    <tr>\n",
       "      <th>count</th>\n",
       "      <td>514</td>\n",
       "      <td>434</td>\n",
       "    </tr>\n",
       "    <tr>\n",
       "      <th>unique</th>\n",
       "      <td>3</td>\n",
       "      <td>2</td>\n",
       "    </tr>\n",
       "    <tr>\n",
       "      <th>top</th>\n",
       "      <td>KM</td>\n",
       "      <td>Male</td>\n",
       "    </tr>\n",
       "    <tr>\n",
       "      <th>freq</th>\n",
       "      <td>429</td>\n",
       "      <td>289</td>\n",
       "    </tr>\n",
       "  </tbody>\n",
       "</table>\n",
       "</div>"
      ],
      "text/plain": [
       "        vet gender\n",
       "count   514    434\n",
       "unique    3      2\n",
       "top      KM   Male\n",
       "freq    429    289"
      ]
     },
     "execution_count": 5,
     "metadata": {},
     "output_type": "execute_result"
    }
   ],
   "source": [
    "df.describe(include=\"object\")"
   ]
  },
  {
   "cell_type": "code",
   "execution_count": 6,
   "id": "3de8af81",
   "metadata": {},
   "outputs": [
    {
     "data": {
      "text/plain": [
       "horseid         0\n",
       "joint           0\n",
       "side            0\n",
       "time            0\n",
       "age            80\n",
       "previous_tx     0\n",
       "radio_score     0\n",
       "lame            0\n",
       "effu            0\n",
       "rom             0\n",
       "vet             0\n",
       "gender         80\n",
       "pred_prob       0\n",
       "_est_A          0\n",
       "_est_B          0\n",
       "dtype: int64"
      ]
     },
     "execution_count": 6,
     "metadata": {},
     "output_type": "execute_result"
    }
   ],
   "source": [
    "df.isna().sum()"
   ]
  },
  {
   "cell_type": "code",
   "execution_count": 7,
   "id": "2fa212b8",
   "metadata": {},
   "outputs": [],
   "source": [
    "df.fillna(\"NA\",inplace=True)"
   ]
  },
  {
   "cell_type": "code",
   "execution_count": 8,
   "id": "9c0ad462",
   "metadata": {},
   "outputs": [
    {
     "data": {
      "text/plain": [
       "0"
      ]
     },
     "execution_count": 8,
     "metadata": {},
     "output_type": "execute_result"
    }
   ],
   "source": [
    "df.duplicated().sum()"
   ]
  },
  {
   "cell_type": "code",
   "execution_count": 9,
   "id": "902cf54c",
   "metadata": {},
   "outputs": [
    {
     "data": {
      "text/html": [
       "<div>\n",
       "<style scoped>\n",
       "    .dataframe tbody tr th:only-of-type {\n",
       "        vertical-align: middle;\n",
       "    }\n",
       "\n",
       "    .dataframe tbody tr th {\n",
       "        vertical-align: top;\n",
       "    }\n",
       "\n",
       "    .dataframe thead th {\n",
       "        text-align: right;\n",
       "    }\n",
       "</style>\n",
       "<table border=\"1\" class=\"dataframe\">\n",
       "  <thead>\n",
       "    <tr style=\"text-align: right;\">\n",
       "      <th></th>\n",
       "      <th>horseid</th>\n",
       "      <th>joint</th>\n",
       "      <th>side</th>\n",
       "      <th>age</th>\n",
       "      <th>previous_tx</th>\n",
       "      <th>radio_score</th>\n",
       "      <th>lame</th>\n",
       "      <th>effu</th>\n",
       "      <th>rom</th>\n",
       "      <th>vet</th>\n",
       "      <th>gender</th>\n",
       "      <th>pred_prob</th>\n",
       "      <th>_est_A</th>\n",
       "      <th>_est_B</th>\n",
       "    </tr>\n",
       "    <tr>\n",
       "      <th>time</th>\n",
       "      <th></th>\n",
       "      <th></th>\n",
       "      <th></th>\n",
       "      <th></th>\n",
       "      <th></th>\n",
       "      <th></th>\n",
       "      <th></th>\n",
       "      <th></th>\n",
       "      <th></th>\n",
       "      <th></th>\n",
       "      <th></th>\n",
       "      <th></th>\n",
       "      <th></th>\n",
       "      <th></th>\n",
       "    </tr>\n",
       "  </thead>\n",
       "  <tbody>\n",
       "    <tr>\n",
       "      <th>0</th>\n",
       "      <td>103</td>\n",
       "      <td>103</td>\n",
       "      <td>103</td>\n",
       "      <td>103</td>\n",
       "      <td>103</td>\n",
       "      <td>103</td>\n",
       "      <td>103</td>\n",
       "      <td>103</td>\n",
       "      <td>103</td>\n",
       "      <td>103</td>\n",
       "      <td>103</td>\n",
       "      <td>103</td>\n",
       "      <td>103</td>\n",
       "      <td>103</td>\n",
       "    </tr>\n",
       "    <tr>\n",
       "      <th>1</th>\n",
       "      <td>103</td>\n",
       "      <td>103</td>\n",
       "      <td>103</td>\n",
       "      <td>103</td>\n",
       "      <td>103</td>\n",
       "      <td>103</td>\n",
       "      <td>103</td>\n",
       "      <td>103</td>\n",
       "      <td>103</td>\n",
       "      <td>103</td>\n",
       "      <td>103</td>\n",
       "      <td>103</td>\n",
       "      <td>103</td>\n",
       "      <td>103</td>\n",
       "    </tr>\n",
       "    <tr>\n",
       "      <th>4</th>\n",
       "      <td>103</td>\n",
       "      <td>103</td>\n",
       "      <td>103</td>\n",
       "      <td>103</td>\n",
       "      <td>103</td>\n",
       "      <td>103</td>\n",
       "      <td>103</td>\n",
       "      <td>103</td>\n",
       "      <td>103</td>\n",
       "      <td>103</td>\n",
       "      <td>103</td>\n",
       "      <td>103</td>\n",
       "      <td>103</td>\n",
       "      <td>103</td>\n",
       "    </tr>\n",
       "    <tr>\n",
       "      <th>12</th>\n",
       "      <td>103</td>\n",
       "      <td>103</td>\n",
       "      <td>103</td>\n",
       "      <td>103</td>\n",
       "      <td>103</td>\n",
       "      <td>103</td>\n",
       "      <td>103</td>\n",
       "      <td>103</td>\n",
       "      <td>103</td>\n",
       "      <td>103</td>\n",
       "      <td>103</td>\n",
       "      <td>103</td>\n",
       "      <td>103</td>\n",
       "      <td>103</td>\n",
       "    </tr>\n",
       "    <tr>\n",
       "      <th>26</th>\n",
       "      <td>102</td>\n",
       "      <td>102</td>\n",
       "      <td>102</td>\n",
       "      <td>102</td>\n",
       "      <td>102</td>\n",
       "      <td>102</td>\n",
       "      <td>102</td>\n",
       "      <td>102</td>\n",
       "      <td>102</td>\n",
       "      <td>102</td>\n",
       "      <td>102</td>\n",
       "      <td>102</td>\n",
       "      <td>102</td>\n",
       "      <td>102</td>\n",
       "    </tr>\n",
       "  </tbody>\n",
       "</table>\n",
       "</div>"
      ],
      "text/plain": [
       "      horseid  joint  side  age  previous_tx  radio_score  lame  effu  rom  \\\n",
       "time                                                                         \n",
       "0         103    103   103  103          103          103   103   103  103   \n",
       "1         103    103   103  103          103          103   103   103  103   \n",
       "4         103    103   103  103          103          103   103   103  103   \n",
       "12        103    103   103  103          103          103   103   103  103   \n",
       "26        102    102   102  102          102          102   102   102  102   \n",
       "\n",
       "      vet  gender  pred_prob  _est_A  _est_B  \n",
       "time                                          \n",
       "0     103     103        103     103     103  \n",
       "1     103     103        103     103     103  \n",
       "4     103     103        103     103     103  \n",
       "12    103     103        103     103     103  \n",
       "26    102     102        102     102     102  "
      ]
     },
     "execution_count": 9,
     "metadata": {},
     "output_type": "execute_result"
    }
   ],
   "source": [
    "df.groupby(\"time\").count()"
   ]
  },
  {
   "cell_type": "markdown",
   "id": "6fbc90fb",
   "metadata": {},
   "source": [
    "It appears that for one horse and joint, the assessment at 26 weeks has not been completed. When it comes to analysing the study results, we will either need to exclude this horse joint or focus on comparison of the data set at 0 and 12 weeks. "
   ]
  },
  {
   "cell_type": "code",
   "execution_count": 10,
   "id": "691bb17c",
   "metadata": {},
   "outputs": [
    {
     "data": {
      "text/html": [
       "<div>\n",
       "<style scoped>\n",
       "    .dataframe tbody tr th:only-of-type {\n",
       "        vertical-align: middle;\n",
       "    }\n",
       "\n",
       "    .dataframe tbody tr th {\n",
       "        vertical-align: top;\n",
       "    }\n",
       "\n",
       "    .dataframe thead th {\n",
       "        text-align: right;\n",
       "    }\n",
       "</style>\n",
       "<table border=\"1\" class=\"dataframe\">\n",
       "  <thead>\n",
       "    <tr style=\"text-align: right;\">\n",
       "      <th></th>\n",
       "      <th>horseid</th>\n",
       "      <th>joint</th>\n",
       "      <th>side</th>\n",
       "      <th>time</th>\n",
       "    </tr>\n",
       "  </thead>\n",
       "  <tbody>\n",
       "    <tr>\n",
       "      <th>28</th>\n",
       "      <td>18</td>\n",
       "      <td>3</td>\n",
       "      <td>0</td>\n",
       "      <td>4</td>\n",
       "    </tr>\n",
       "  </tbody>\n",
       "</table>\n",
       "</div>"
      ],
      "text/plain": [
       "    horseid  joint  side  time\n",
       "28       18      3     0     4"
      ]
     },
     "execution_count": 10,
     "metadata": {},
     "output_type": "execute_result"
    }
   ],
   "source": [
    "find = df.groupby([\"horseid\",\"joint\",\"side\"])[\"time\"].count().reset_index()\n",
    "find[find.time!=5]"
   ]
  },
  {
   "cell_type": "markdown",
   "id": "dbfa9a61",
   "metadata": {},
   "source": [
    "We will take a closer look at this joint to see if anything unusual is observed:"
   ]
  },
  {
   "cell_type": "code",
   "execution_count": 11,
   "id": "bbd33352",
   "metadata": {},
   "outputs": [
    {
     "data": {
      "text/html": [
       "<div>\n",
       "<style scoped>\n",
       "    .dataframe tbody tr th:only-of-type {\n",
       "        vertical-align: middle;\n",
       "    }\n",
       "\n",
       "    .dataframe tbody tr th {\n",
       "        vertical-align: top;\n",
       "    }\n",
       "\n",
       "    .dataframe thead th {\n",
       "        text-align: right;\n",
       "    }\n",
       "</style>\n",
       "<table border=\"1\" class=\"dataframe\">\n",
       "  <thead>\n",
       "    <tr style=\"text-align: right;\">\n",
       "      <th></th>\n",
       "      <th>horseid</th>\n",
       "      <th>joint</th>\n",
       "      <th>side</th>\n",
       "      <th>time</th>\n",
       "      <th>age</th>\n",
       "      <th>previous_tx</th>\n",
       "      <th>radio_score</th>\n",
       "      <th>lame</th>\n",
       "      <th>effu</th>\n",
       "      <th>rom</th>\n",
       "      <th>vet</th>\n",
       "      <th>gender</th>\n",
       "      <th>pred_prob</th>\n",
       "      <th>_est_A</th>\n",
       "      <th>_est_B</th>\n",
       "    </tr>\n",
       "  </thead>\n",
       "  <tbody>\n",
       "    <tr>\n",
       "      <th>22</th>\n",
       "      <td>18</td>\n",
       "      <td>3</td>\n",
       "      <td>0</td>\n",
       "      <td>12</td>\n",
       "      <td>2011.0</td>\n",
       "      <td>0</td>\n",
       "      <td>0</td>\n",
       "      <td>1</td>\n",
       "      <td>0</td>\n",
       "      <td>0</td>\n",
       "      <td>KM</td>\n",
       "      <td>Male</td>\n",
       "      <td>0.355413</td>\n",
       "      <td>1</td>\n",
       "      <td>1</td>\n",
       "    </tr>\n",
       "    <tr>\n",
       "      <th>165</th>\n",
       "      <td>18</td>\n",
       "      <td>3</td>\n",
       "      <td>0</td>\n",
       "      <td>4</td>\n",
       "      <td>2011.0</td>\n",
       "      <td>0</td>\n",
       "      <td>0</td>\n",
       "      <td>1</td>\n",
       "      <td>0</td>\n",
       "      <td>0</td>\n",
       "      <td>KM</td>\n",
       "      <td>Male</td>\n",
       "      <td>0.533582</td>\n",
       "      <td>1</td>\n",
       "      <td>1</td>\n",
       "    </tr>\n",
       "    <tr>\n",
       "      <th>316</th>\n",
       "      <td>18</td>\n",
       "      <td>3</td>\n",
       "      <td>0</td>\n",
       "      <td>0</td>\n",
       "      <td>2011.0</td>\n",
       "      <td>0</td>\n",
       "      <td>0</td>\n",
       "      <td>3</td>\n",
       "      <td>1</td>\n",
       "      <td>0</td>\n",
       "      <td>KM</td>\n",
       "      <td>Male</td>\n",
       "      <td>0.010659</td>\n",
       "      <td>1</td>\n",
       "      <td>1</td>\n",
       "    </tr>\n",
       "    <tr>\n",
       "      <th>317</th>\n",
       "      <td>18</td>\n",
       "      <td>3</td>\n",
       "      <td>0</td>\n",
       "      <td>1</td>\n",
       "      <td>2011.0</td>\n",
       "      <td>0</td>\n",
       "      <td>0</td>\n",
       "      <td>1</td>\n",
       "      <td>0</td>\n",
       "      <td>0</td>\n",
       "      <td>KM</td>\n",
       "      <td>Male</td>\n",
       "      <td>0.162783</td>\n",
       "      <td>1</td>\n",
       "      <td>1</td>\n",
       "    </tr>\n",
       "  </tbody>\n",
       "</table>\n",
       "</div>"
      ],
      "text/plain": [
       "     horseid  joint  side  time     age  previous_tx  radio_score  lame  effu  \\\n",
       "22        18      3     0    12  2011.0            0            0     1     0   \n",
       "165       18      3     0     4  2011.0            0            0     1     0   \n",
       "316       18      3     0     0  2011.0            0            0     3     1   \n",
       "317       18      3     0     1  2011.0            0            0     1     0   \n",
       "\n",
       "     rom vet gender  pred_prob  _est_A  _est_B  \n",
       "22     0  KM   Male   0.355413       1       1  \n",
       "165    0  KM   Male   0.533582       1       1  \n",
       "316    0  KM   Male   0.010659       1       1  \n",
       "317    0  KM   Male   0.162783       1       1  "
      ]
     },
     "execution_count": 11,
     "metadata": {},
     "output_type": "execute_result"
    }
   ],
   "source": [
    "df[df.horseid==18]"
   ]
  },
  {
   "cell_type": "markdown",
   "id": "760f0eb6",
   "metadata": {},
   "source": [
    "It appears the lameness grade in this joint reduced from 3 to 1 quickly after injection, and then remained stable, and effusion reduced from 1 to 0. We might be willing to assume that this remained the same in week 26, but to be on the safe side, we will exclude the horse from the analysis altogether."
   ]
  },
  {
   "cell_type": "code",
   "execution_count": 12,
   "id": "d971dd91",
   "metadata": {},
   "outputs": [],
   "source": [
    "df_original = df.copy()"
   ]
  },
  {
   "cell_type": "code",
   "execution_count": 13,
   "id": "133c919a",
   "metadata": {},
   "outputs": [],
   "source": [
    "df = df[df.horseid!=18]"
   ]
  },
  {
   "cell_type": "code",
   "execution_count": 14,
   "id": "9a644bb2",
   "metadata": {},
   "outputs": [
    {
     "data": {
      "text/html": [
       "<div>\n",
       "<style scoped>\n",
       "    .dataframe tbody tr th:only-of-type {\n",
       "        vertical-align: middle;\n",
       "    }\n",
       "\n",
       "    .dataframe tbody tr th {\n",
       "        vertical-align: top;\n",
       "    }\n",
       "\n",
       "    .dataframe thead th {\n",
       "        text-align: right;\n",
       "    }\n",
       "</style>\n",
       "<table border=\"1\" class=\"dataframe\">\n",
       "  <thead>\n",
       "    <tr style=\"text-align: right;\">\n",
       "      <th></th>\n",
       "      <th>horseid</th>\n",
       "      <th>joint</th>\n",
       "      <th>side</th>\n",
       "      <th>age</th>\n",
       "      <th>previous_tx</th>\n",
       "      <th>radio_score</th>\n",
       "      <th>lame</th>\n",
       "      <th>effu</th>\n",
       "      <th>rom</th>\n",
       "      <th>vet</th>\n",
       "      <th>gender</th>\n",
       "      <th>pred_prob</th>\n",
       "      <th>_est_A</th>\n",
       "      <th>_est_B</th>\n",
       "    </tr>\n",
       "    <tr>\n",
       "      <th>time</th>\n",
       "      <th></th>\n",
       "      <th></th>\n",
       "      <th></th>\n",
       "      <th></th>\n",
       "      <th></th>\n",
       "      <th></th>\n",
       "      <th></th>\n",
       "      <th></th>\n",
       "      <th></th>\n",
       "      <th></th>\n",
       "      <th></th>\n",
       "      <th></th>\n",
       "      <th></th>\n",
       "      <th></th>\n",
       "    </tr>\n",
       "  </thead>\n",
       "  <tbody>\n",
       "    <tr>\n",
       "      <th>0</th>\n",
       "      <td>102</td>\n",
       "      <td>102</td>\n",
       "      <td>102</td>\n",
       "      <td>102</td>\n",
       "      <td>102</td>\n",
       "      <td>102</td>\n",
       "      <td>102</td>\n",
       "      <td>102</td>\n",
       "      <td>102</td>\n",
       "      <td>102</td>\n",
       "      <td>102</td>\n",
       "      <td>102</td>\n",
       "      <td>102</td>\n",
       "      <td>102</td>\n",
       "    </tr>\n",
       "    <tr>\n",
       "      <th>1</th>\n",
       "      <td>102</td>\n",
       "      <td>102</td>\n",
       "      <td>102</td>\n",
       "      <td>102</td>\n",
       "      <td>102</td>\n",
       "      <td>102</td>\n",
       "      <td>102</td>\n",
       "      <td>102</td>\n",
       "      <td>102</td>\n",
       "      <td>102</td>\n",
       "      <td>102</td>\n",
       "      <td>102</td>\n",
       "      <td>102</td>\n",
       "      <td>102</td>\n",
       "    </tr>\n",
       "    <tr>\n",
       "      <th>4</th>\n",
       "      <td>102</td>\n",
       "      <td>102</td>\n",
       "      <td>102</td>\n",
       "      <td>102</td>\n",
       "      <td>102</td>\n",
       "      <td>102</td>\n",
       "      <td>102</td>\n",
       "      <td>102</td>\n",
       "      <td>102</td>\n",
       "      <td>102</td>\n",
       "      <td>102</td>\n",
       "      <td>102</td>\n",
       "      <td>102</td>\n",
       "      <td>102</td>\n",
       "    </tr>\n",
       "    <tr>\n",
       "      <th>12</th>\n",
       "      <td>102</td>\n",
       "      <td>102</td>\n",
       "      <td>102</td>\n",
       "      <td>102</td>\n",
       "      <td>102</td>\n",
       "      <td>102</td>\n",
       "      <td>102</td>\n",
       "      <td>102</td>\n",
       "      <td>102</td>\n",
       "      <td>102</td>\n",
       "      <td>102</td>\n",
       "      <td>102</td>\n",
       "      <td>102</td>\n",
       "      <td>102</td>\n",
       "    </tr>\n",
       "    <tr>\n",
       "      <th>26</th>\n",
       "      <td>102</td>\n",
       "      <td>102</td>\n",
       "      <td>102</td>\n",
       "      <td>102</td>\n",
       "      <td>102</td>\n",
       "      <td>102</td>\n",
       "      <td>102</td>\n",
       "      <td>102</td>\n",
       "      <td>102</td>\n",
       "      <td>102</td>\n",
       "      <td>102</td>\n",
       "      <td>102</td>\n",
       "      <td>102</td>\n",
       "      <td>102</td>\n",
       "    </tr>\n",
       "  </tbody>\n",
       "</table>\n",
       "</div>"
      ],
      "text/plain": [
       "      horseid  joint  side  age  previous_tx  radio_score  lame  effu  rom  \\\n",
       "time                                                                         \n",
       "0         102    102   102  102          102          102   102   102  102   \n",
       "1         102    102   102  102          102          102   102   102  102   \n",
       "4         102    102   102  102          102          102   102   102  102   \n",
       "12        102    102   102  102          102          102   102   102  102   \n",
       "26        102    102   102  102          102          102   102   102  102   \n",
       "\n",
       "      vet  gender  pred_prob  _est_A  _est_B  \n",
       "time                                          \n",
       "0     102     102        102     102     102  \n",
       "1     102     102        102     102     102  \n",
       "4     102     102        102     102     102  \n",
       "12    102     102        102     102     102  \n",
       "26    102     102        102     102     102  "
      ]
     },
     "execution_count": 14,
     "metadata": {},
     "output_type": "execute_result"
    }
   ],
   "source": [
    "df.groupby(\"time\").count()"
   ]
  },
  {
   "cell_type": "markdown",
   "id": "160da1f5",
   "metadata": {},
   "source": [
    "### EDA"
   ]
  },
  {
   "cell_type": "code",
   "execution_count": 15,
   "id": "c43ebe15",
   "metadata": {},
   "outputs": [
    {
     "name": "stdout",
     "output_type": "stream",
     "text": [
      "% of horse joints in lameness grade x weeks post injection:\n"
     ]
    },
    {
     "data": {
      "text/html": [
       "<div>\n",
       "<style scoped>\n",
       "    .dataframe tbody tr th:only-of-type {\n",
       "        vertical-align: middle;\n",
       "    }\n",
       "\n",
       "    .dataframe tbody tr th {\n",
       "        vertical-align: top;\n",
       "    }\n",
       "\n",
       "    .dataframe thead th {\n",
       "        text-align: right;\n",
       "    }\n",
       "</style>\n",
       "<table border=\"1\" class=\"dataframe\">\n",
       "  <thead>\n",
       "    <tr style=\"text-align: right;\">\n",
       "      <th>lame</th>\n",
       "      <th>0</th>\n",
       "      <th>1</th>\n",
       "      <th>2</th>\n",
       "      <th>3</th>\n",
       "    </tr>\n",
       "    <tr>\n",
       "      <th>time</th>\n",
       "      <th></th>\n",
       "      <th></th>\n",
       "      <th></th>\n",
       "      <th></th>\n",
       "    </tr>\n",
       "  </thead>\n",
       "  <tbody>\n",
       "    <tr>\n",
       "      <th>0</th>\n",
       "      <td>0.0</td>\n",
       "      <td>6.9</td>\n",
       "      <td>50.0</td>\n",
       "      <td>43.1</td>\n",
       "    </tr>\n",
       "    <tr>\n",
       "      <th>1</th>\n",
       "      <td>0.0</td>\n",
       "      <td>36.3</td>\n",
       "      <td>62.7</td>\n",
       "      <td>1.0</td>\n",
       "    </tr>\n",
       "    <tr>\n",
       "      <th>4</th>\n",
       "      <td>44.1</td>\n",
       "      <td>38.2</td>\n",
       "      <td>13.7</td>\n",
       "      <td>3.9</td>\n",
       "    </tr>\n",
       "    <tr>\n",
       "      <th>12</th>\n",
       "      <td>76.5</td>\n",
       "      <td>9.8</td>\n",
       "      <td>8.8</td>\n",
       "      <td>4.9</td>\n",
       "    </tr>\n",
       "    <tr>\n",
       "      <th>26</th>\n",
       "      <td>76.5</td>\n",
       "      <td>9.8</td>\n",
       "      <td>7.8</td>\n",
       "      <td>5.9</td>\n",
       "    </tr>\n",
       "  </tbody>\n",
       "</table>\n",
       "</div>"
      ],
      "text/plain": [
       "lame     0     1     2     3\n",
       "time                        \n",
       "0      0.0   6.9  50.0  43.1\n",
       "1      0.0  36.3  62.7   1.0\n",
       "4     44.1  38.2  13.7   3.9\n",
       "12    76.5   9.8   8.8   4.9\n",
       "26    76.5   9.8   7.8   5.9"
      ]
     },
     "execution_count": 15,
     "metadata": {},
     "output_type": "execute_result"
    }
   ],
   "source": [
    "print(\"% of horse joints in lameness grade x weeks post injection:\")\n",
    "round(pd.crosstab(df.time,df.lame)/102*100,1)"
   ]
  },
  {
   "cell_type": "code",
   "execution_count": 16,
   "id": "6d000c3a",
   "metadata": {},
   "outputs": [
    {
     "data": {
      "image/png": "[encoded data removed]",
      "text/plain": [
       "<Figure size 640x480 with 1 Axes>"
      ]
     },
     "metadata": {},
     "output_type": "display_data"
    }
   ],
   "source": [
    "fig,ax = plt.subplots()\n",
    "ax=sns.boxplot(data=df, x=\"time\",y=\"lame\")\n",
    "ax.set_title(\"Distribution of lameness grades x weeks post injection\")\n",
    "ax.set_xlabel(\"Number of weeks post injection\")\n",
    "ax.set_ylabel(\"Lameness grade\");"
   ]
  },
  {
   "cell_type": "code",
   "execution_count": 17,
   "id": "149a0eff",
   "metadata": {},
   "outputs": [
    {
     "data": {
      "text/html": [
       "<div>\n",
       "<style scoped>\n",
       "    .dataframe tbody tr th:only-of-type {\n",
       "        vertical-align: middle;\n",
       "    }\n",
       "\n",
       "    .dataframe tbody tr th {\n",
       "        vertical-align: top;\n",
       "    }\n",
       "\n",
       "    .dataframe thead tr th {\n",
       "        text-align: left;\n",
       "    }\n",
       "\n",
       "    .dataframe thead tr:last-of-type th {\n",
       "        text-align: right;\n",
       "    }\n",
       "</style>\n",
       "<table border=\"1\" class=\"dataframe\">\n",
       "  <thead>\n",
       "    <tr>\n",
       "      <th></th>\n",
       "      <th colspan=\"3\" halign=\"left\">lame</th>\n",
       "      <th colspan=\"3\" halign=\"left\">effu</th>\n",
       "    </tr>\n",
       "    <tr>\n",
       "      <th></th>\n",
       "      <th>mean</th>\n",
       "      <th>max</th>\n",
       "      <th>min</th>\n",
       "      <th>mean</th>\n",
       "      <th>max</th>\n",
       "      <th>min</th>\n",
       "    </tr>\n",
       "    <tr>\n",
       "      <th>time</th>\n",
       "      <th></th>\n",
       "      <th></th>\n",
       "      <th></th>\n",
       "      <th></th>\n",
       "      <th></th>\n",
       "      <th></th>\n",
       "    </tr>\n",
       "  </thead>\n",
       "  <tbody>\n",
       "    <tr>\n",
       "      <th>0</th>\n",
       "      <td>2.362745</td>\n",
       "      <td>3</td>\n",
       "      <td>1</td>\n",
       "      <td>0.686275</td>\n",
       "      <td>2</td>\n",
       "      <td>0</td>\n",
       "    </tr>\n",
       "    <tr>\n",
       "      <th>1</th>\n",
       "      <td>1.647059</td>\n",
       "      <td>3</td>\n",
       "      <td>1</td>\n",
       "      <td>0.362745</td>\n",
       "      <td>2</td>\n",
       "      <td>0</td>\n",
       "    </tr>\n",
       "    <tr>\n",
       "      <th>4</th>\n",
       "      <td>0.774510</td>\n",
       "      <td>3</td>\n",
       "      <td>0</td>\n",
       "      <td>0.156863</td>\n",
       "      <td>1</td>\n",
       "      <td>0</td>\n",
       "    </tr>\n",
       "    <tr>\n",
       "      <th>12</th>\n",
       "      <td>0.421569</td>\n",
       "      <td>3</td>\n",
       "      <td>0</td>\n",
       "      <td>0.078431</td>\n",
       "      <td>1</td>\n",
       "      <td>0</td>\n",
       "    </tr>\n",
       "    <tr>\n",
       "      <th>26</th>\n",
       "      <td>0.431373</td>\n",
       "      <td>3</td>\n",
       "      <td>0</td>\n",
       "      <td>0.088235</td>\n",
       "      <td>2</td>\n",
       "      <td>0</td>\n",
       "    </tr>\n",
       "  </tbody>\n",
       "</table>\n",
       "</div>"
      ],
      "text/plain": [
       "          lame              effu        \n",
       "          mean max min      mean max min\n",
       "time                                    \n",
       "0     2.362745   3   1  0.686275   2   0\n",
       "1     1.647059   3   1  0.362745   2   0\n",
       "4     0.774510   3   0  0.156863   1   0\n",
       "12    0.421569   3   0  0.078431   1   0\n",
       "26    0.431373   3   0  0.088235   2   0"
      ]
     },
     "execution_count": 17,
     "metadata": {},
     "output_type": "execute_result"
    }
   ],
   "source": [
    "df.groupby(\"time\")[\"lame\",\"effu\"].agg([\"mean\",\"max\",\"min\"])"
   ]
  },
  {
   "cell_type": "markdown",
   "id": "dd19b25b",
   "metadata": {},
   "source": [
    "It appears that on average, a significant improvement in lameness scores is observed between the injection and 4 weeks post injection. Lameness scores stabilize after about 12 weeks, with no further improvement noted thereafter. "
   ]
  },
  {
   "cell_type": "code",
   "execution_count": 18,
   "id": "4ccb7a74",
   "metadata": {},
   "outputs": [
    {
     "data": {
      "image/png": "[encoded data removed]",
      "text/plain": [
       "<Figure size 640x480 with 1 Axes>"
      ]
     },
     "metadata": {},
     "output_type": "display_data"
    }
   ],
   "source": [
    "ax = df.groupby([\"gender\",\"time\"])[\"lame\",\"effu\"].agg([\"mean\"]).plot(kind=\"bar\")\n",
    "ax.set_title(\"Variation of lameness and effusion grades x weeks post injection by gender\");"
   ]
  },
  {
   "cell_type": "markdown",
   "id": "30fb1cb9",
   "metadata": {},
   "source": [
    "It appears that on average, the improvement observed is higher in female than in male subjects, but given the small sample size and that a number of horses have not been grouped by gender (and these appear to show an even greater improvement), we do not propose to dive deeper into this finding at this stage."
   ]
  },
  {
   "cell_type": "code",
   "execution_count": 19,
   "id": "cb1e5f28",
   "metadata": {},
   "outputs": [],
   "source": [
    "df[\"agegroup\"]=np.where(df.age==\"NA\",0,df.age)\n",
    "df[\"agegroup\"]=np.where(df.agegroup==0,\"NA\",np.where(df.agegroup<=2010,\"older\",\"younger\"))"
   ]
  },
  {
   "cell_type": "code",
   "execution_count": 20,
   "id": "43b61365",
   "metadata": {},
   "outputs": [
    {
     "data": {
      "image/png": "[encoded data removed]",
      "text/plain": [
       "<Figure size 640x480 with 1 Axes>"
      ]
     },
     "metadata": {},
     "output_type": "display_data"
    }
   ],
   "source": [
    "ax = df.groupby([\"agegroup\",\"time\"])[\"lame\",\"effu\"].agg([\"mean\"]).plot(kind=\"bar\");\n",
    "ax.set_title(\"Variation of lameness and effusion grades x weeks post injection by age group\");"
   ]
  },
  {
   "cell_type": "markdown",
   "id": "f38a64e5",
   "metadata": {},
   "source": [
    "It appears that on average, a greater improvement can be observed for younger than for older horses, but given the small sample size and that the age of a number of horses is missing (and these appear to show the greatest improvement), we do not propose to dive deeper into this finding at this stage."
   ]
  },
  {
   "cell_type": "code",
   "execution_count": 21,
   "id": "07bac69c",
   "metadata": {},
   "outputs": [
    {
     "data": {
      "image/png": "[encoded data removed]",
      "text/plain": [
       "<Figure size 640x480 with 1 Axes>"
      ]
     },
     "metadata": {},
     "output_type": "display_data"
    }
   ],
   "source": [
    "ax = df.groupby([\"previous_tx\",\"time\"])[\"lame\",\"effu\"].agg([\"mean\"]).plot(kind=\"bar\");\n",
    "ax.set_title(\"Variation of lameness and effusion grades x weeks post injection for horses with and without previous treatment\");"
   ]
  },
  {
   "cell_type": "markdown",
   "id": "af6ddc09",
   "metadata": {},
   "source": [
    "The observed relative improvement in lameness grades may be slightly better for horses that have not had any previous treatments (we expect that this would have been the \"standard\" steroid injections into the joint). However, the difference does not appear sufficiently material to merit much deeper analysis at this point."
   ]
  },
  {
   "cell_type": "markdown",
   "id": "373f6e35",
   "metadata": {},
   "source": [
    "#### Pairwise comparison"
   ]
  },
  {
   "cell_type": "code",
   "execution_count": 22,
   "id": "eecb46f9",
   "metadata": {},
   "outputs": [],
   "source": [
    "df0 = df[df.time==0]\n",
    "df26 = df[df.time==26]"
   ]
  },
  {
   "cell_type": "code",
   "execution_count": 23,
   "id": "ec06ec1f",
   "metadata": {},
   "outputs": [],
   "source": [
    "before=df0.groupby([\"horseid\",\"joint\",\"side\"])[\"lame\"].mean().reset_index()"
   ]
  },
  {
   "cell_type": "code",
   "execution_count": 24,
   "id": "df9d7197",
   "metadata": {},
   "outputs": [],
   "source": [
    "after=df26.groupby([\"horseid\",\"joint\",\"side\"])[\"lame\"].mean().reset_index()"
   ]
  },
  {
   "cell_type": "code",
   "execution_count": 25,
   "id": "dab95421",
   "metadata": {},
   "outputs": [],
   "source": [
    "combined=pd.merge(before,after,on=[\"horseid\",\"joint\",\"side\"])\n",
    "combined.rename(columns={\"lame_x\":\"lame_before\",\"lame_y\":\"lame_after\"},inplace=True)"
   ]
  },
  {
   "cell_type": "code",
   "execution_count": 26,
   "id": "adc34f02",
   "metadata": {},
   "outputs": [],
   "source": [
    "combined[\"pct_improvement\"]=-(combined.lame_after/combined.lame_before-1)*100"
   ]
  },
  {
   "cell_type": "code",
   "execution_count": 27,
   "id": "f126fb35",
   "metadata": {},
   "outputs": [
    {
     "data": {
      "image/png": "[encoded data removed]",
      "text/plain": [
       "<Figure size 640x480 with 1 Axes>"
      ]
     },
     "metadata": {},
     "output_type": "display_data"
    }
   ],
   "source": [
    "fig,ax = plt.subplots(1,1)\n",
    "ax=sns.histplot(combined.pct_improvement)\n",
    "ax.set_title(\"Distribution of level of improvement observed after 26 weeks\")\n",
    "ax.set_xlabel(\"Level of lameness grade improvement (%)\")\n",
    "ax.set_ylabel(\"Frequency\");"
   ]
  },
  {
   "cell_type": "markdown",
   "id": "b680a2d9",
   "metadata": {},
   "source": [
    "Bear in mind, however, that lameness grades are ordinal and % improvement is therefore indicative only."
   ]
  },
  {
   "cell_type": "code",
   "execution_count": 28,
   "id": "37684bc2",
   "metadata": {},
   "outputs": [
    {
     "data": {
      "image/png": "[encoded data removed]",
      "text/plain": [
       "<Figure size 600x600 with 3 Axes>"
      ]
     },
     "metadata": {},
     "output_type": "display_data"
    }
   ],
   "source": [
    "ax = sns.jointplot(data=combined,x=\"lame_before\",y=\"lame_after\",kind=\"hex\")\n",
    "ax.fig.suptitle(\"Distribution of lameness grades before and 26 weeks after injection\")\n",
    "ax.fig.tight_layout()"
   ]
  },
  {
   "cell_type": "markdown",
   "id": "6491d9ff",
   "metadata": {},
   "source": [
    "### Hypothesis testing"
   ]
  },
  {
   "cell_type": "markdown",
   "id": "a1a0296e",
   "metadata": {},
   "source": [
    "\n",
    "$ 𝐻_{0}: $ Horses have the same or worse lameness grades 26 weeks after the injection than before the injection.\n",
    "\n",
    "$ 𝐻_{A}: $ Horses have improved lameness grades 26 weeks after the injection.\n",
    "\n",
    "We will apply a pairwise t-test to this analysis, as the samples are related. This will be a one-tailed test."
   ]
  },
  {
   "cell_type": "code",
   "execution_count": 29,
   "id": "6157aa72",
   "metadata": {},
   "outputs": [
    {
     "name": "stdout",
     "output_type": "stream",
     "text": [
      "Lameness grades before injection vs. Lameness grades 26 weeks after injection: t =  19.75 p (one-tailed) =  0.0\n"
     ]
    }
   ],
   "source": [
    "t, p = stats.ttest_rel(combined[\"lame_before\"],combined[\"lame_after\"])\n",
    "\n",
    "print('Lameness grades before injection vs. Lameness grades 26 weeks after injection: t = ', str(round(t,2)),'p (one-tailed) = ',str(round(p/2,6)))"
   ]
  },
  {
   "cell_type": "code",
   "execution_count": 30,
   "id": "fb10c467",
   "metadata": {},
   "outputs": [
    {
     "name": "stdout",
     "output_type": "stream",
     "text": [
      "Conclusion: since p_value 1.8347314088927293e-36 is less than alpha 0.05 \n",
      "Reject the null hypothesis that horses have the same or worse lameness grades 26 weeks after the injection than before the injection.\n"
     ]
    }
   ],
   "source": [
    "alpha=0.05\n",
    "if p <alpha:\n",
    "    print(\"Conclusion: since p_value {} is less than alpha {} \". format (p,alpha))\n",
    "    print(\"Reject the null hypothesis that horses have the same or worse lameness grades 26 weeks after the injection than before the injection.\")\n",
    "    \n",
    "else:\n",
    "    print(\"Conclusion: since p_value {} is greater than alpha {} \". format (p,alpha))\n",
    "    print(\"Fail to reject the null hypothesis that horses have the same or worse lameness grades 26 weeks after the injection.\")"
   ]
  },
  {
   "cell_type": "markdown",
   "id": "1ae36116",
   "metadata": {},
   "source": [
    "We note that this analysis is a little simplified as the lameness grades are ordinal values and not normally distributed."
   ]
  },
  {
   "cell_type": "markdown",
   "id": "c72295fc",
   "metadata": {},
   "source": [
    "### Conclusions and Recommendation"
   ]
  },
  {
   "cell_type": "markdown",
   "id": "3a583e55",
   "metadata": {},
   "source": [
    "The results of this study appear sufficiently interesting to recommend conducting a larger research study with a control group on a  double-blind basis to further analyse the efficacy of the polyacrylamide hydrogel injections."
   ]
  },
  {
   "cell_type": "code",
   "execution_count": null,
   "id": "7a427657",
   "metadata": {},
   "outputs": [],
   "source": []
  }
 ],
 "metadata": {
  "kernelspec": {
   "display_name": "Python 3 (ipykernel)",
   "language": "python",
   "name": "python3"
  },
  "language_info": {
   "codemirror_mode": {
    "name": "ipython",
    "version": 3
   },
   "file_extension": ".py",
   "mimetype": "text/x-python",
   "name": "python",
   "nbconvert_exporter": "python",
   "pygments_lexer": "ipython3",
   "version": "3.11.3"
  }
 },
 "nbformat": 4,
 "nbformat_minor": 5
}
